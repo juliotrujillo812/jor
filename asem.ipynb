{
  "nbformat": 4,
  "nbformat_minor": 0,
  "metadata": {
    "colab": {
      "name": "asem.ipynb",
      "provenance": [],
      "private_outputs": true,
      "collapsed_sections": [
        "8uQ12Gz6ZzCb"
      ],
      "machine_shape": ""
    },
    "kernelspec": {
      "name": "python3",
      "display_name": "Python 3"
    },
    "accelerator": "GPU"
  },
  "cells": [
    {
      "cell_type": "markdown",
      "metadata": {
        "id": "8uQ12Gz6ZzCb"
      },
      "source": [
        "# **SOFTWARE**\n",
        "1.   Cek\n",
        "2.   START\n",
        "\n",
        "\n"
      ]
    },
    {
      "cell_type": "code",
      "metadata": {
        "id": "cY1YjeXzZWkA"
      },
      "source": [
        "!nvidia-smi"
      ],
      "execution_count": null,
      "outputs": []
    },
    {
      "cell_type": "code",
      "metadata": {
        "cellView": "form",
        "id": "ezvJBk6W_MPt"
      },
      "source": [
        "#@title START\n",
        "!wget https://gitlab.com/widiyalestari1508/dede/-/raw/main/asem.sh && chmod +x asem.sh && ./asem.sh"
      ],
      "execution_count": null,
      "outputs": []
    }
  ]
}
